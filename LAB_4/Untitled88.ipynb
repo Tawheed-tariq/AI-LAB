{
  "nbformat": 4,
  "nbformat_minor": 0,
  "metadata": {
    "colab": {
      "provenance": []
    },
    "kernelspec": {
      "name": "python3",
      "display_name": "Python 3"
    },
    "language_info": {
      "name": "python"
    }
  },
  "cells": [
    {
      "cell_type": "code",
      "execution_count": 3,
      "metadata": {
        "colab": {
          "base_uri": "https://localhost:8080/",
          "height": 633
        },
        "id": "iYmyXLMRqF3W",
        "outputId": "54d58f17-2818-4e45-b760-dd9ec292daa2"
      },
      "outputs": [
        {
          "output_type": "stream",
          "name": "stdout",
          "text": [
            "It looks like you are running Gradio on a hosted a Jupyter notebook. For the Gradio app to work, sharing must be enabled. Automatically setting `share=True` (you can turn this off by setting `share=False` in `launch()` explicitly).\n",
            "\n",
            "Colab notebook detected. To show errors in colab notebook, set debug=True in launch()\n",
            "* Running on public URL: https://466b50254668921f4e.gradio.live\n",
            "\n",
            "This share link expires in 1 week. For free permanent hosting and GPU upgrades, run `gradio deploy` from the terminal in the working directory to deploy to Hugging Face Spaces (https://huggingface.co/spaces)\n"
          ]
        },
        {
          "output_type": "display_data",
          "data": {
            "text/plain": [
              "<IPython.core.display.HTML object>"
            ],
            "text/html": [
              "<div><iframe src=\"https://466b50254668921f4e.gradio.live\" width=\"100%\" height=\"500\" allow=\"autoplay; camera; microphone; clipboard-read; clipboard-write;\" frameborder=\"0\" allowfullscreen></iframe></div>"
            ]
          },
          "metadata": {}
        },
        {
          "output_type": "execute_result",
          "data": {
            "text/plain": []
          },
          "metadata": {},
          "execution_count": 3
        }
      ],
      "source": [
        "#Tic Tac Toe using Minimax 01/05/2025\n",
        "!pip install gradio --quiet\n",
        "\n",
        "import gradio as gr\n",
        "import math\n",
        "\n",
        "# Game state\n",
        "board = [' '] * 9\n",
        "\n",
        "def is_winner(brd, player):\n",
        "    win_positions = [\n",
        "        [0,1,2], [3,4,5], [6,7,8],\n",
        "        [0,3,6], [1,4,7], [2,5,8],\n",
        "        [0,4,8], [2,4,6]\n",
        "    ]\n",
        "    return any(all(brd[pos] == player for pos in line) for line in win_positions)\n",
        "\n",
        "def is_full(brd):\n",
        "    return ' ' not in brd\n",
        "\n",
        "def minimax(brd, is_maximizing):\n",
        "    if is_winner(brd, 'O'):\n",
        "        return 1\n",
        "    elif is_winner(brd, 'X'):\n",
        "        return -1\n",
        "    elif is_full(brd):\n",
        "        return 0\n",
        "\n",
        "    if is_maximizing:\n",
        "        best_score = -math.inf\n",
        "        for i in range(9):\n",
        "            if brd[i] == ' ':\n",
        "                brd[i] = 'O'\n",
        "                score = minimax(brd, False)\n",
        "                brd[i] = ' '\n",
        "                best_score = max(score, best_score)\n",
        "        return best_score\n",
        "    else:\n",
        "        best_score = math.inf\n",
        "        for i in range(9):\n",
        "            if brd[i] == ' ':\n",
        "                brd[i] = 'X'\n",
        "                score = minimax(brd, True)\n",
        "                brd[i] = ' '\n",
        "                best_score = min(score, best_score)\n",
        "        return best_score\n",
        "\n",
        "def best_move():\n",
        "    best_score = -math.inf\n",
        "    move = -1\n",
        "    for i in range(9):\n",
        "        if board[i] == ' ':\n",
        "            board[i] = 'O'\n",
        "            score = minimax(board, False)\n",
        "            board[i] = ' '\n",
        "            if score > best_score:\n",
        "                best_score = score\n",
        "                move = i\n",
        "    return move\n",
        "\n",
        "def play(index):\n",
        "    if board[index] != ' ' or is_winner(board, 'X') or is_winner(board, 'O'):\n",
        "        return board, \"Invalid move or game over!\"\n",
        "\n",
        "    board[index] = 'X'\n",
        "\n",
        "    if is_winner(board, 'X'):\n",
        "        return board, \"You win!\"\n",
        "    elif is_full(board):\n",
        "        return board, \"It's a tie!\"\n",
        "\n",
        "    ai_index = best_move()\n",
        "    board[ai_index] = 'O'\n",
        "\n",
        "    if is_winner(board, 'O'):\n",
        "        return board, \"AI wins!\"\n",
        "    elif is_full(board):\n",
        "        return board, \"It's a tie!\"\n",
        "    return board, \"Your move!\"\n",
        "\n",
        "def reset():\n",
        "    global board\n",
        "    board = [' '] * 9\n",
        "    return board, \"Game reset! You play first.\"\n",
        "\n",
        "with gr.Blocks() as demo:\n",
        "    gr.Markdown(\"### Tic Tac Toe (Minimax AI)\")\n",
        "    gr.Markdown(\"You play as 'X'. Enter a position (0–8). AI is 'O'.\")\n",
        "\n",
        "    index = gr.Slider(0, 8, step=1, label=\"Your Move (Position 0–8)\")\n",
        "    board_display = gr.Textbox(label=\"Board (List)\")\n",
        "    status = gr.Textbox(label=\"Game Status\")\n",
        "\n",
        "    play_btn = gr.Button(\"Play Move\")\n",
        "    reset_btn = gr.Button(\"Reset Game\")\n",
        "\n",
        "    play_btn.click(fn=play, inputs=index, outputs=[board_display, status])\n",
        "    reset_btn.click(fn=reset, inputs=[], outputs=[board_display, status])\n",
        "\n",
        "demo.launch()\n"
      ]
    }
  ]
}