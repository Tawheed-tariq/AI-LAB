{
  "nbformat": 4,
  "nbformat_minor": 0,
  "metadata": {
    "colab": {
      "provenance": []
    },
    "kernelspec": {
      "name": "python3",
      "display_name": "Python 3"
    },
    "language_info": {
      "name": "python"
    }
  },
  "cells": [
    {
      "cell_type": "code",
      "execution_count": 3,
      "metadata": {
        "colab": {
          "base_uri": "https://localhost:8080/"
        },
        "id": "rbUBT6LFTTBt",
        "outputId": "538a6a83-e0fd-4273-d6ee-1adc38615301"
      },
      "outputs": [
        {
          "output_type": "stream",
          "name": "stdout",
          "text": [
            "========== (1, 15)\n",
            "Your action:-\n",
            "========== (-1, 14)\n",
            "Your action:-\n",
            "========== (1, 13)\n",
            "Your action:/\n",
            "========== (-1, 6)\n",
            "Your action:/\n",
            "========== (1, 3)\n",
            "Your action:-\n",
            "========== (-1, 2)\n",
            "Your action:/\n",
            "========== (1, 1)\n",
            "Your action:-\n",
            "utility=-inf\n"
          ]
        }
      ],
      "source": [
        "class HalvingGame(object):\n",
        "  def __init__(self, N):\n",
        "    self.N = N\n",
        "\n",
        "# State = (player,number)\n",
        "  def Startstate(self):\n",
        "    return(+1,self.N)\n",
        "\n",
        "  def isEnd(self,state):\n",
        "    player,number=state\n",
        "    return number==0\n",
        "\n",
        "  def utility(self,state):\n",
        "    player,number=state\n",
        "    assert number==0\n",
        "    return player *float('inf')\n",
        "\n",
        "  def actions(self,state):\n",
        "    return['-', '/']\n",
        "\n",
        "  def player(self,state):\n",
        "    player,number=state\n",
        "    return player\n",
        "\n",
        "  def succ(self,state,actions):\n",
        "    player,number=state\n",
        "    if actions=='-':\n",
        "      return (-player,number-1)\n",
        "    else:\n",
        "      return (-player,number//2)\n",
        "\n",
        "  # Define humanpolicy as a method within the HalvingGame class\n",
        "  def humanpolicy(self, game, state):\n",
        "    while True:\n",
        "      action=input('Your action:')\n",
        "      if action in game.actions(state):\n",
        "        return action\n",
        "\n",
        "# Instantiate the HalvingGame class\n",
        "game=HalvingGame(N=15)\n",
        "\n",
        "# Access humanpolicy through the game object\n",
        "policies={+1:game.humanpolicy, -1:game.humanpolicy}\n",
        "state=game.Startstate()\n",
        "\n",
        "while not game.isEnd(state):\n",
        "  print('='*10, state)\n",
        "  player=game.player(state)\n",
        "  policy=policies[player]\n",
        "  action=policy(game,state)\n",
        "  state=game.succ(state,action)\n",
        "\n",
        "print('utility={}'.format(game.utility(state)))"
      ]
    }
  ]
}